{
 "cells": [
  {
   "cell_type": "code",
   "execution_count": 18,
   "metadata": {},
   "outputs": [],
   "source": [
    "import os\n",
    "import pickle\n",
    "import numpy as np\n",
    "import pandas as pd\n",
    "import matplotlib.pyplot as plt"
   ]
  },
  {
   "cell_type": "code",
   "execution_count": 2,
   "metadata": {},
   "outputs": [
    {
     "data": {
      "text/plain": [
       "['uc', '.ipynb_checkpoints', 'erb', 'nh', 'heracleia', 'mocap']"
      ]
     },
     "execution_count": 2,
     "metadata": {},
     "output_type": "execute_result"
    }
   ],
   "source": [
    "root_path = '/data/zak/robot/'\n",
    "labels_path = os.path.join(root_path, 'labels')\n",
    "os.listdir(labels_path)"
   ]
  },
  {
   "cell_type": "code",
   "execution_count": 3,
   "metadata": {},
   "outputs": [
    {
     "data": {
      "text/plain": [
       "['info.csv',\n",
       " 'labels_balanced.csv',\n",
       " 'labels_christos.csv',\n",
       " '.ipynb_checkpoints',\n",
       " 'labels.csv',\n",
       " 'labels_old.csv']"
      ]
     },
     "execution_count": 3,
     "metadata": {},
     "output_type": "execute_result"
    }
   ],
   "source": [
    "dataset_path = os.path.join(labels_path, 'heracleia')\n",
    "os.listdir(dataset_path)"
   ]
  },
  {
   "cell_type": "code",
   "execution_count": 4,
   "metadata": {},
   "outputs": [
    {
     "data": {
      "text/html": [
       "<div>\n",
       "<style scoped>\n",
       "    .dataframe tbody tr th:only-of-type {\n",
       "        vertical-align: middle;\n",
       "    }\n",
       "\n",
       "    .dataframe tbody tr th {\n",
       "        vertical-align: top;\n",
       "    }\n",
       "\n",
       "    .dataframe thead th {\n",
       "        text-align: right;\n",
       "    }\n",
       "</style>\n",
       "<table border=\"1\" class=\"dataframe\">\n",
       "  <thead>\n",
       "    <tr style=\"text-align: right;\">\n",
       "      <th></th>\n",
       "      <th>Unnamed: 0</th>\n",
       "      <th>dataset</th>\n",
       "      <th>date</th>\n",
       "      <th>jointLabeled</th>\n",
       "      <th>img</th>\n",
       "      <th>joints</th>\n",
       "      <th>front_laser</th>\n",
       "      <th>label</th>\n",
       "    </tr>\n",
       "  </thead>\n",
       "  <tbody>\n",
       "    <tr>\n",
       "      <th>0</th>\n",
       "      <td>0</td>\n",
       "      <td>heracleia</td>\n",
       "      <td>8_12_un</td>\n",
       "      <td>False</td>\n",
       "      <td>/data/zak/robot/extracted/heracleia/8_12_un/im...</td>\n",
       "      <td>/data/zak/robot/extracted/heracleia/8_12_un/jo...</td>\n",
       "      <td>/data/zak/robot/extracted/heracleia/8_12_un/fr...</td>\n",
       "      <td>NaN</td>\n",
       "    </tr>\n",
       "    <tr>\n",
       "      <th>1</th>\n",
       "      <td>1</td>\n",
       "      <td>heracleia</td>\n",
       "      <td>8_12_un</td>\n",
       "      <td>False</td>\n",
       "      <td>/data/zak/robot/extracted/heracleia/8_12_un/im...</td>\n",
       "      <td>/data/zak/robot/extracted/heracleia/8_12_un/jo...</td>\n",
       "      <td>/data/zak/robot/extracted/heracleia/8_12_un/fr...</td>\n",
       "      <td>NaN</td>\n",
       "    </tr>\n",
       "    <tr>\n",
       "      <th>2</th>\n",
       "      <td>2</td>\n",
       "      <td>heracleia</td>\n",
       "      <td>8_12_un</td>\n",
       "      <td>False</td>\n",
       "      <td>/data/zak/robot/extracted/heracleia/8_12_un/im...</td>\n",
       "      <td>/data/zak/robot/extracted/heracleia/8_12_un/jo...</td>\n",
       "      <td>/data/zak/robot/extracted/heracleia/8_12_un/fr...</td>\n",
       "      <td>NaN</td>\n",
       "    </tr>\n",
       "    <tr>\n",
       "      <th>3</th>\n",
       "      <td>3</td>\n",
       "      <td>heracleia</td>\n",
       "      <td>8_12_un</td>\n",
       "      <td>False</td>\n",
       "      <td>/data/zak/robot/extracted/heracleia/8_12_un/im...</td>\n",
       "      <td>/data/zak/robot/extracted/heracleia/8_12_un/jo...</td>\n",
       "      <td>/data/zak/robot/extracted/heracleia/8_12_un/fr...</td>\n",
       "      <td>NaN</td>\n",
       "    </tr>\n",
       "    <tr>\n",
       "      <th>4</th>\n",
       "      <td>4</td>\n",
       "      <td>heracleia</td>\n",
       "      <td>8_12_un</td>\n",
       "      <td>False</td>\n",
       "      <td>/data/zak/robot/extracted/heracleia/8_12_un/im...</td>\n",
       "      <td>/data/zak/robot/extracted/heracleia/8_12_un/jo...</td>\n",
       "      <td>/data/zak/robot/extracted/heracleia/8_12_un/fr...</td>\n",
       "      <td>NaN</td>\n",
       "    </tr>\n",
       "  </tbody>\n",
       "</table>\n",
       "</div>"
      ],
      "text/plain": [
       "   Unnamed: 0    dataset     date  jointLabeled  \\\n",
       "0           0  heracleia  8_12_un         False   \n",
       "1           1  heracleia  8_12_un         False   \n",
       "2           2  heracleia  8_12_un         False   \n",
       "3           3  heracleia  8_12_un         False   \n",
       "4           4  heracleia  8_12_un         False   \n",
       "\n",
       "                                                 img  \\\n",
       "0  /data/zak/robot/extracted/heracleia/8_12_un/im...   \n",
       "1  /data/zak/robot/extracted/heracleia/8_12_un/im...   \n",
       "2  /data/zak/robot/extracted/heracleia/8_12_un/im...   \n",
       "3  /data/zak/robot/extracted/heracleia/8_12_un/im...   \n",
       "4  /data/zak/robot/extracted/heracleia/8_12_un/im...   \n",
       "\n",
       "                                              joints  \\\n",
       "0  /data/zak/robot/extracted/heracleia/8_12_un/jo...   \n",
       "1  /data/zak/robot/extracted/heracleia/8_12_un/jo...   \n",
       "2  /data/zak/robot/extracted/heracleia/8_12_un/jo...   \n",
       "3  /data/zak/robot/extracted/heracleia/8_12_un/jo...   \n",
       "4  /data/zak/robot/extracted/heracleia/8_12_un/jo...   \n",
       "\n",
       "                                         front_laser  label  \n",
       "0  /data/zak/robot/extracted/heracleia/8_12_un/fr...    NaN  \n",
       "1  /data/zak/robot/extracted/heracleia/8_12_un/fr...    NaN  \n",
       "2  /data/zak/robot/extracted/heracleia/8_12_un/fr...    NaN  \n",
       "3  /data/zak/robot/extracted/heracleia/8_12_un/fr...    NaN  \n",
       "4  /data/zak/robot/extracted/heracleia/8_12_un/fr...    NaN  "
      ]
     },
     "execution_count": 4,
     "metadata": {},
     "output_type": "execute_result"
    }
   ],
   "source": [
    "df = pd.read_csv(os.path.join(dataset_path, 'info.csv'))\n",
    "df.head()"
   ]
  },
  {
   "cell_type": "code",
   "execution_count": 5,
   "metadata": {},
   "outputs": [],
   "source": [
    "def get_velocities(path):\n",
    "    with open(path, 'rb') as f:\n",
    "        values = pickle.load(f)\n",
    "        \n",
    "    return values['velocity'] "
   ]
  },
  {
   "cell_type": "code",
   "execution_count": 6,
   "metadata": {},
   "outputs": [],
   "source": [
    "df['velocities'] = df.joints.apply(lambda path: get_velocities(path))"
   ]
  },
  {
   "cell_type": "code",
   "execution_count": 7,
   "metadata": {},
   "outputs": [
    {
     "data": {
      "text/html": [
       "<div>\n",
       "<style scoped>\n",
       "    .dataframe tbody tr th:only-of-type {\n",
       "        vertical-align: middle;\n",
       "    }\n",
       "\n",
       "    .dataframe tbody tr th {\n",
       "        vertical-align: top;\n",
       "    }\n",
       "\n",
       "    .dataframe thead th {\n",
       "        text-align: right;\n",
       "    }\n",
       "</style>\n",
       "<table border=\"1\" class=\"dataframe\">\n",
       "  <thead>\n",
       "    <tr style=\"text-align: right;\">\n",
       "      <th></th>\n",
       "      <th>Unnamed: 0</th>\n",
       "      <th>dataset</th>\n",
       "      <th>date</th>\n",
       "      <th>jointLabeled</th>\n",
       "      <th>img</th>\n",
       "      <th>joints</th>\n",
       "      <th>front_laser</th>\n",
       "      <th>label</th>\n",
       "      <th>velocities</th>\n",
       "    </tr>\n",
       "  </thead>\n",
       "  <tbody>\n",
       "    <tr>\n",
       "      <th>0</th>\n",
       "      <td>0</td>\n",
       "      <td>heracleia</td>\n",
       "      <td>8_12_un</td>\n",
       "      <td>False</td>\n",
       "      <td>/data/zak/robot/extracted/heracleia/8_12_un/im...</td>\n",
       "      <td>/data/zak/robot/extracted/heracleia/8_12_un/jo...</td>\n",
       "      <td>/data/zak/robot/extracted/heracleia/8_12_un/fr...</td>\n",
       "      <td>NaN</td>\n",
       "      <td>(0.0, -0.0, -2.5071599123218208e-05, 0.0008775...</td>\n",
       "    </tr>\n",
       "    <tr>\n",
       "      <th>1</th>\n",
       "      <td>1</td>\n",
       "      <td>heracleia</td>\n",
       "      <td>8_12_un</td>\n",
       "      <td>False</td>\n",
       "      <td>/data/zak/robot/extracted/heracleia/8_12_un/im...</td>\n",
       "      <td>/data/zak/robot/extracted/heracleia/8_12_un/jo...</td>\n",
       "      <td>/data/zak/robot/extracted/heracleia/8_12_un/fr...</td>\n",
       "      <td>NaN</td>\n",
       "      <td>(0.0, -0.0, -2.5071599123218208e-05, 0.0003510...</td>\n",
       "    </tr>\n",
       "    <tr>\n",
       "      <th>2</th>\n",
       "      <td>2</td>\n",
       "      <td>heracleia</td>\n",
       "      <td>8_12_un</td>\n",
       "      <td>False</td>\n",
       "      <td>/data/zak/robot/extracted/heracleia/8_12_un/im...</td>\n",
       "      <td>/data/zak/robot/extracted/heracleia/8_12_un/jo...</td>\n",
       "      <td>/data/zak/robot/extracted/heracleia/8_12_un/fr...</td>\n",
       "      <td>NaN</td>\n",
       "      <td>(0.0, -0.0, 0.00020057279298574566, 0.00030085...</td>\n",
       "    </tr>\n",
       "    <tr>\n",
       "      <th>3</th>\n",
       "      <td>3</td>\n",
       "      <td>heracleia</td>\n",
       "      <td>8_12_un</td>\n",
       "      <td>False</td>\n",
       "      <td>/data/zak/robot/extracted/heracleia/8_12_un/im...</td>\n",
       "      <td>/data/zak/robot/extracted/heracleia/8_12_un/jo...</td>\n",
       "      <td>/data/zak/robot/extracted/heracleia/8_12_un/fr...</td>\n",
       "      <td>NaN</td>\n",
       "      <td>(0.0, -0.0, 0.0003760739868482731, 0.000275787...</td>\n",
       "    </tr>\n",
       "    <tr>\n",
       "      <th>4</th>\n",
       "      <td>4</td>\n",
       "      <td>heracleia</td>\n",
       "      <td>8_12_un</td>\n",
       "      <td>False</td>\n",
       "      <td>/data/zak/robot/extracted/heracleia/8_12_un/im...</td>\n",
       "      <td>/data/zak/robot/extracted/heracleia/8_12_un/jo...</td>\n",
       "      <td>/data/zak/robot/extracted/heracleia/8_12_un/fr...</td>\n",
       "      <td>NaN</td>\n",
       "      <td>(0.0, -0.0, 0.0006769331763268916, 0.000250715...</td>\n",
       "    </tr>\n",
       "  </tbody>\n",
       "</table>\n",
       "</div>"
      ],
      "text/plain": [
       "   Unnamed: 0    dataset     date  jointLabeled  \\\n",
       "0           0  heracleia  8_12_un         False   \n",
       "1           1  heracleia  8_12_un         False   \n",
       "2           2  heracleia  8_12_un         False   \n",
       "3           3  heracleia  8_12_un         False   \n",
       "4           4  heracleia  8_12_un         False   \n",
       "\n",
       "                                                 img  \\\n",
       "0  /data/zak/robot/extracted/heracleia/8_12_un/im...   \n",
       "1  /data/zak/robot/extracted/heracleia/8_12_un/im...   \n",
       "2  /data/zak/robot/extracted/heracleia/8_12_un/im...   \n",
       "3  /data/zak/robot/extracted/heracleia/8_12_un/im...   \n",
       "4  /data/zak/robot/extracted/heracleia/8_12_un/im...   \n",
       "\n",
       "                                              joints  \\\n",
       "0  /data/zak/robot/extracted/heracleia/8_12_un/jo...   \n",
       "1  /data/zak/robot/extracted/heracleia/8_12_un/jo...   \n",
       "2  /data/zak/robot/extracted/heracleia/8_12_un/jo...   \n",
       "3  /data/zak/robot/extracted/heracleia/8_12_un/jo...   \n",
       "4  /data/zak/robot/extracted/heracleia/8_12_un/jo...   \n",
       "\n",
       "                                         front_laser  label  \\\n",
       "0  /data/zak/robot/extracted/heracleia/8_12_un/fr...    NaN   \n",
       "1  /data/zak/robot/extracted/heracleia/8_12_un/fr...    NaN   \n",
       "2  /data/zak/robot/extracted/heracleia/8_12_un/fr...    NaN   \n",
       "3  /data/zak/robot/extracted/heracleia/8_12_un/fr...    NaN   \n",
       "4  /data/zak/robot/extracted/heracleia/8_12_un/fr...    NaN   \n",
       "\n",
       "                                          velocities  \n",
       "0  (0.0, -0.0, -2.5071599123218208e-05, 0.0008775...  \n",
       "1  (0.0, -0.0, -2.5071599123218208e-05, 0.0003510...  \n",
       "2  (0.0, -0.0, 0.00020057279298574566, 0.00030085...  \n",
       "3  (0.0, -0.0, 0.0003760739868482731, 0.000275787...  \n",
       "4  (0.0, -0.0, 0.0006769331763268916, 0.000250715...  "
      ]
     },
     "execution_count": 7,
     "metadata": {},
     "output_type": "execute_result"
    }
   ],
   "source": [
    "df.head()"
   ]
  },
  {
   "cell_type": "code",
   "execution_count": 8,
   "metadata": {},
   "outputs": [
    {
     "name": "stdout",
     "output_type": "stream",
     "text": [
      "BL, BR, FL, FR\n"
     ]
    },
    {
     "data": {
      "text/plain": [
       "(-3.895023353386688, 4.65391558724738, -3.9920755135926655, 4.538862018870931)"
      ]
     },
     "execution_count": 8,
     "metadata": {},
     "output_type": "execute_result"
    }
   ],
   "source": [
    "print('BL, BR, FL, FR')\n",
    "x = df.sample()['velocities'].item()\n",
    "x"
   ]
  },
  {
   "cell_type": "code",
   "execution_count": 9,
   "metadata": {},
   "outputs": [
    {
     "data": {
      "text/plain": [
       "tuple"
      ]
     },
     "execution_count": 9,
     "metadata": {},
     "output_type": "execute_result"
    }
   ],
   "source": [
    "type(x)"
   ]
  },
  {
   "cell_type": "code",
   "execution_count": 15,
   "metadata": {},
   "outputs": [],
   "source": [
    "BL = df[['velocities']].applymap(lambda x: x[0])\n",
    "BR = df[['velocities']].applymap(lambda x: x[1])\n",
    "FL = df[['velocities']].applymap(lambda x: x[2])\n",
    "FR = df[['velocities']].applymap(lambda x: x[3])"
   ]
  },
  {
   "cell_type": "code",
   "execution_count": 16,
   "metadata": {},
   "outputs": [
    {
     "name": "stdout",
     "output_type": "stream",
     "text": [
      "17295 17295 17295 17295\n"
     ]
    }
   ],
   "source": [
    "print(len(BL), len(BR), len(FL), len(FR))"
   ]
  },
  {
   "cell_type": "code",
   "execution_count": 32,
   "metadata": {},
   "outputs": [
    {
     "data": {
      "text/plain": [
       "Text(0.5, 1.0, 'Back Right')"
      ]
     },
     "execution_count": 32,
     "metadata": {},
     "output_type": "execute_result"
    },
    {
     "data": {
      "image/png": "[encoded data removed]",
      "text/plain": [
       "<Figure size 1000x1000 with 4 Axes>"
      ]
     },
     "metadata": {},
     "output_type": "display_data"
    }
   ],
   "source": [
    "fig, axs = plt.subplots(2, 2, figsize=(10, 10))\n",
    "axs[0, 0].hist(FL, bins=50, color='blue')\n",
    "axs[0, 0].set_title('Front Left')\n",
    "axs[0, 1].hist(FR, bins=50, color='red')\n",
    "axs[0, 1].set_title('Front Right')\n",
    "axs[1, 0].hist(BL, bins=50, color='black')\n",
    "axs[1, 0].set_title('Back Left')\n",
    "axs[1, 1].hist(BR, bins=50, color='grey')\n",
    "axs[1, 1].set_title('Back Right')"
   ]
  },
  {
   "cell_type": "code",
   "execution_count": null,
   "metadata": {},
   "outputs": [],
   "source": []
  }
 ],
 "metadata": {
  "kernelspec": {
   "display_name": "asheesh",
   "language": "python",
   "name": "asheesh"
  },
  "language_info": {
   "codemirror_mode": {
    "name": "ipython",
    "version": 3
   },
   "file_extension": ".py",
   "mimetype": "text/x-python",
   "name": "python",
   "nbconvert_exporter": "python",
   "pygments_lexer": "ipython3",
   "version": "3.7.13"
  }
 },
 "nbformat": 4,
 "nbformat_minor": 4
}
