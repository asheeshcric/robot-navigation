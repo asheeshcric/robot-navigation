{
 "cells": [
  {
   "cell_type": "code",
   "execution_count": 3,
   "metadata": {},
   "outputs": [],
   "source": [
    "import csv\n",
    "import os\n",
    "import pickle\n",
    "\n",
    "import shutil\n",
    "import tqdm\n",
    "\n",
    "import pandas as pd"
   ]
  },
  {
   "cell_type": "code",
   "execution_count": 6,
   "metadata": {},
   "outputs": [],
   "source": [
    "data_path = '/data/zak/rosbag/labeled'"
   ]
  },
  {
   "cell_type": "code",
   "execution_count": null,
   "metadata": {},
   "outputs": [],
   "source": [
    "def get_labels(joint_filenames):\n",
    "    labels = []\n",
    "    for joint_path in joint_filenames:\n",
    "        with open(joint_path, 'rb') as joint_file:\n",
    "            vel = pickle.load(joint_file)['velocity']\n",
    "            front_avg_vel = (vel[2] + vel[3]) / 2\n",
    "            if front_avg_vel > 1:\n",
    "                label = 'no_obstacle'\n",
    "            elif -0.1 < front_avg_vel < 0.1:\n",
    "                label = 'obstacle'\n",
    "            else:\n",
    "                label = 'unknown'\n",
    "        labels.append(label)\n",
    "    return labels"
   ]
  },
  {
   "cell_type": "code",
   "execution_count": null,
   "metadata": {},
   "outputs": [],
   "source": [
    "def create_csv(img_filenames, joint_filenames, dataset_path):\n",
    "    labels = get_labels(joint_filenames)\n",
    "    path_labels = list(zip(img_filenames, labels))\n",
    "    print(f'Writing labels.csv to {dataset_path}')\n",
    "    with open(os.path.join(dataset_path, 'labels.csv'), 'w') as csv_file:\n",
    "        writer = csv.writer(csv_file)\n",
    "        writer.writerow(['img_path', 'label'])\n",
    "        writer.writerows(path_labels)"
   ]
  },
  {
   "cell_type": "code",
   "execution_count": null,
   "metadata": {},
   "outputs": [],
   "source": [
    "for dataset in os.listdir(data_path):\n",
    "    dataset_path = os.path.join(data_path, dataset)    \n",
    "\n",
    "    # Sort all img and joints contents in ascending order and put them on a csv file with the obtained label\n",
    "    img_filenames = sorted(os.listdir(os.path.join(dataset_path, 'img')))\n",
    "    img_filenames = [os.path.join(dataset_path, 'img', img) for img in img_filenames]\n",
    "    joint_filenames = sorted(os.listdir(os.path.join(dataset_path, 'joints')))\n",
    "    joint_filenames = [os.path.join(dataset_path, 'joints', joint) for joint in joint_filenames]\n",
    "    create_csv(img_filenames, joint_filenames, dataset_path)\n",
    "    "
   ]
  },
  {
   "cell_type": "markdown",
   "metadata": {},
   "source": [
    "# Split datasets based on the labels generated to test the quality"
   ]
  },
  {
   "cell_type": "code",
   "execution_count": 8,
   "metadata": {},
   "outputs": [],
   "source": []
  },
  {
   "cell_type": "code",
   "execution_count": 7,
   "metadata": {},
   "outputs": [],
   "source": [
    "extracted_data_path = '/data/zak/rosbag/extracted'\n",
    "for dataset in os.listdir(data_path):\n",
    "    if dataset not in ['heracleia', 'uc', 'mocap']:\n",
    "        continue\n",
    "    csv_path = os.path.join(data_path, dataset, 'labels.csv')\n",
    "    new_dataset_path = os.path.join(extracted_data_path, dataset)\n",
    "    with open(csv_path, 'r') as csv_file:\n",
    "        csv_reader = csv.reader(csv_file, delimiter=',')\n",
    "        for i, row in enumerate(csv_reader):\n",
    "            if i == 0:\n",
    "                continue\n",
    "            # print(row)\n",
    "            img_path = row[0]\n",
    "            img_label = row[1]\n",
    "            img_name = img_path.split('/')[-1]\n",
    "            new_img_path = os.path.join(new_dataset_path, img_label, img_name)\n",
    "            os.makedirs(os.path.dirname(new_img_path), exist_ok=True)\n",
    "            shutil.copy(img_path, new_img_path)"
   ]
  },
  {
   "cell_type": "markdown",
   "metadata": {},
   "source": [
    "# Read from a csv file and check distribution"
   ]
  },
  {
   "cell_type": "code",
   "execution_count": 24,
   "metadata": {},
   "outputs": [],
   "source": [
    "import pandas as pd"
   ]
  },
  {
   "cell_type": "code",
   "execution_count": 11,
   "metadata": {},
   "outputs": [],
   "source": [
    "csv_path = '/data/zak/rosbag/labeled/heracleia/labels.csv'"
   ]
  },
  {
   "cell_type": "code",
   "execution_count": 12,
   "metadata": {},
   "outputs": [],
   "source": [
    "df = pd.read_csv(csv_path, delimiter=',')"
   ]
  },
  {
   "cell_type": "code",
   "execution_count": 13,
   "metadata": {},
   "outputs": [
    {
     "data": {
      "text/html": [
       "<div>\n",
       "<style scoped>\n",
       "    .dataframe tbody tr th:only-of-type {\n",
       "        vertical-align: middle;\n",
       "    }\n",
       "\n",
       "    .dataframe tbody tr th {\n",
       "        vertical-align: top;\n",
       "    }\n",
       "\n",
       "    .dataframe thead th {\n",
       "        text-align: right;\n",
       "    }\n",
       "</style>\n",
       "<table border=\"1\" class=\"dataframe\">\n",
       "  <thead>\n",
       "    <tr style=\"text-align: right;\">\n",
       "      <th></th>\n",
       "      <th>img_path</th>\n",
       "      <th>label</th>\n",
       "    </tr>\n",
       "  </thead>\n",
       "  <tbody>\n",
       "    <tr>\n",
       "      <th>0</th>\n",
       "      <td>/data/zak/rosbag/labeled/heracleia/img/1661551...</td>\n",
       "      <td>obstacle</td>\n",
       "    </tr>\n",
       "    <tr>\n",
       "      <th>1</th>\n",
       "      <td>/data/zak/rosbag/labeled/heracleia/img/1661551...</td>\n",
       "      <td>obstacle</td>\n",
       "    </tr>\n",
       "    <tr>\n",
       "      <th>2</th>\n",
       "      <td>/data/zak/rosbag/labeled/heracleia/img/1661551...</td>\n",
       "      <td>obstacle</td>\n",
       "    </tr>\n",
       "    <tr>\n",
       "      <th>3</th>\n",
       "      <td>/data/zak/rosbag/labeled/heracleia/img/1661551...</td>\n",
       "      <td>obstacle</td>\n",
       "    </tr>\n",
       "    <tr>\n",
       "      <th>4</th>\n",
       "      <td>/data/zak/rosbag/labeled/heracleia/img/1661551...</td>\n",
       "      <td>obstacle</td>\n",
       "    </tr>\n",
       "  </tbody>\n",
       "</table>\n",
       "</div>"
      ],
      "text/plain": [
       "                                            img_path     label\n",
       "0  /data/zak/rosbag/labeled/heracleia/img/1661551...  obstacle\n",
       "1  /data/zak/rosbag/labeled/heracleia/img/1661551...  obstacle\n",
       "2  /data/zak/rosbag/labeled/heracleia/img/1661551...  obstacle\n",
       "3  /data/zak/rosbag/labeled/heracleia/img/1661551...  obstacle\n",
       "4  /data/zak/rosbag/labeled/heracleia/img/1661551...  obstacle"
      ]
     },
     "execution_count": 13,
     "metadata": {},
     "output_type": "execute_result"
    }
   ],
   "source": [
    "df.head()"
   ]
  },
  {
   "cell_type": "code",
   "execution_count": 19,
   "metadata": {},
   "outputs": [
    {
     "data": {
      "text/plain": [
       "no_obstacle    5815\n",
       "unknown        1521\n",
       "obstacle       1514\n",
       "Name: label, dtype: int64"
      ]
     },
     "execution_count": 19,
     "metadata": {},
     "output_type": "execute_result"
    }
   ],
   "source": [
    "df['label'].value_counts()"
   ]
  },
  {
   "cell_type": "markdown",
   "metadata": {},
   "source": [
    "## Combine multiple csv files"
   ]
  },
  {
   "cell_type": "code",
   "execution_count": 20,
   "metadata": {},
   "outputs": [],
   "source": [
    "mocap_csv_path = '/data/zak/rosbag/labeled/mocap/labels.csv'"
   ]
  },
  {
   "cell_type": "code",
   "execution_count": 21,
   "metadata": {},
   "outputs": [],
   "source": [
    "mocap_df = pd.read_csv(mocap_csv_path, delimiter=',')"
   ]
  },
  {
   "cell_type": "code",
   "execution_count": 22,
   "metadata": {},
   "outputs": [
    {
     "data": {
      "text/html": [
       "<div>\n",
       "<style scoped>\n",
       "    .dataframe tbody tr th:only-of-type {\n",
       "        vertical-align: middle;\n",
       "    }\n",
       "\n",
       "    .dataframe tbody tr th {\n",
       "        vertical-align: top;\n",
       "    }\n",
       "\n",
       "    .dataframe thead th {\n",
       "        text-align: right;\n",
       "    }\n",
       "</style>\n",
       "<table border=\"1\" class=\"dataframe\">\n",
       "  <thead>\n",
       "    <tr style=\"text-align: right;\">\n",
       "      <th></th>\n",
       "      <th>img_path</th>\n",
       "      <th>label</th>\n",
       "    </tr>\n",
       "  </thead>\n",
       "  <tbody>\n",
       "    <tr>\n",
       "      <th>0</th>\n",
       "      <td>/data/zak/rosbag/labeled/mocap/img/16615524345...</td>\n",
       "      <td>obstacle</td>\n",
       "    </tr>\n",
       "    <tr>\n",
       "      <th>1</th>\n",
       "      <td>/data/zak/rosbag/labeled/mocap/img/16615524345...</td>\n",
       "      <td>obstacle</td>\n",
       "    </tr>\n",
       "    <tr>\n",
       "      <th>2</th>\n",
       "      <td>/data/zak/rosbag/labeled/mocap/img/16615524346...</td>\n",
       "      <td>obstacle</td>\n",
       "    </tr>\n",
       "    <tr>\n",
       "      <th>3</th>\n",
       "      <td>/data/zak/rosbag/labeled/mocap/img/16615524347...</td>\n",
       "      <td>obstacle</td>\n",
       "    </tr>\n",
       "    <tr>\n",
       "      <th>4</th>\n",
       "      <td>/data/zak/rosbag/labeled/mocap/img/16615524348...</td>\n",
       "      <td>obstacle</td>\n",
       "    </tr>\n",
       "  </tbody>\n",
       "</table>\n",
       "</div>"
      ],
      "text/plain": [
       "                                            img_path     label\n",
       "0  /data/zak/rosbag/labeled/mocap/img/16615524345...  obstacle\n",
       "1  /data/zak/rosbag/labeled/mocap/img/16615524345...  obstacle\n",
       "2  /data/zak/rosbag/labeled/mocap/img/16615524346...  obstacle\n",
       "3  /data/zak/rosbag/labeled/mocap/img/16615524347...  obstacle\n",
       "4  /data/zak/rosbag/labeled/mocap/img/16615524348...  obstacle"
      ]
     },
     "execution_count": 22,
     "metadata": {},
     "output_type": "execute_result"
    }
   ],
   "source": [
    "mocap_df.head()"
   ]
  },
  {
   "cell_type": "code",
   "execution_count": 23,
   "metadata": {},
   "outputs": [
    {
     "data": {
      "text/plain": [
       "no_obstacle    5094\n",
       "obstacle       1991\n",
       "unknown        1406\n",
       "Name: label, dtype: int64"
      ]
     },
     "execution_count": 23,
     "metadata": {},
     "output_type": "execute_result"
    }
   ],
   "source": [
    "mocap_df['label'].value_counts()"
   ]
  },
  {
   "cell_type": "code",
   "execution_count": null,
   "metadata": {},
   "outputs": [],
   "source": []
  },
  {
   "cell_type": "code",
   "execution_count": 26,
   "metadata": {},
   "outputs": [
    {
     "data": {
      "text/html": [
       "<div>\n",
       "<style scoped>\n",
       "    .dataframe tbody tr th:only-of-type {\n",
       "        vertical-align: middle;\n",
       "    }\n",
       "\n",
       "    .dataframe tbody tr th {\n",
       "        vertical-align: top;\n",
       "    }\n",
       "\n",
       "    .dataframe thead th {\n",
       "        text-align: right;\n",
       "    }\n",
       "</style>\n",
       "<table border=\"1\" class=\"dataframe\">\n",
       "  <thead>\n",
       "    <tr style=\"text-align: right;\">\n",
       "      <th></th>\n",
       "      <th>img_path</th>\n",
       "      <th>label</th>\n",
       "    </tr>\n",
       "  </thead>\n",
       "  <tbody>\n",
       "    <tr>\n",
       "      <th>0</th>\n",
       "      <td>/data/zak/rosbag/labeled/heracleia/img/1661551...</td>\n",
       "      <td>obstacle</td>\n",
       "    </tr>\n",
       "    <tr>\n",
       "      <th>1</th>\n",
       "      <td>/data/zak/rosbag/labeled/heracleia/img/1661551...</td>\n",
       "      <td>obstacle</td>\n",
       "    </tr>\n",
       "    <tr>\n",
       "      <th>2</th>\n",
       "      <td>/data/zak/rosbag/labeled/heracleia/img/1661551...</td>\n",
       "      <td>obstacle</td>\n",
       "    </tr>\n",
       "    <tr>\n",
       "      <th>3</th>\n",
       "      <td>/data/zak/rosbag/labeled/heracleia/img/1661551...</td>\n",
       "      <td>obstacle</td>\n",
       "    </tr>\n",
       "    <tr>\n",
       "      <th>4</th>\n",
       "      <td>/data/zak/rosbag/labeled/heracleia/img/1661551...</td>\n",
       "      <td>obstacle</td>\n",
       "    </tr>\n",
       "  </tbody>\n",
       "</table>\n",
       "</div>"
      ],
      "text/plain": [
       "                                            img_path     label\n",
       "0  /data/zak/rosbag/labeled/heracleia/img/1661551...  obstacle\n",
       "1  /data/zak/rosbag/labeled/heracleia/img/1661551...  obstacle\n",
       "2  /data/zak/rosbag/labeled/heracleia/img/1661551...  obstacle\n",
       "3  /data/zak/rosbag/labeled/heracleia/img/1661551...  obstacle\n",
       "4  /data/zak/rosbag/labeled/heracleia/img/1661551...  obstacle"
      ]
     },
     "execution_count": 26,
     "metadata": {},
     "output_type": "execute_result"
    }
   ],
   "source": [
    "comb_df = pd.concat([df, mocap_df])\n",
    "comb_df.head()"
   ]
  },
  {
   "cell_type": "code",
   "execution_count": 29,
   "metadata": {},
   "outputs": [
    {
     "data": {
      "text/plain": [
       "no_obstacle    10909\n",
       "obstacle        3505\n",
       "unknown         2927\n",
       "Name: label, dtype: int64"
      ]
     },
     "execution_count": 29,
     "metadata": {},
     "output_type": "execute_result"
    }
   ],
   "source": [
    "comb_df['label'].value_counts()"
   ]
  },
  {
   "cell_type": "code",
   "execution_count": null,
   "metadata": {},
   "outputs": [],
   "source": []
  },
  {
   "cell_type": "markdown",
   "metadata": {},
   "source": [
    "## Generate Labels with Joints and Directions"
   ]
  },
  {
   "cell_type": "code",
   "execution_count": 25,
   "metadata": {},
   "outputs": [],
   "source": [
    "data_path = '/data/zak/robot/labels'"
   ]
  },
  {
   "cell_type": "code",
   "execution_count": 47,
   "metadata": {},
   "outputs": [],
   "source": [
    "# for dataset in os.listdir(data_path):\n",
    "for dataset in ['heracleia']:\n",
    "    if '.ipynb_checkpoints' == dataset:\n",
    "        continue\n",
    "    info_path = os.path.join(data_path, dataset, 'info.csv')\n",
    "    info_df = pd.read_csv(info_path)\n",
    "    labeled_data = info_df.loc[info_df['jointLabeled'] == True]\n",
    "    break"
   ]
  },
  {
   "cell_type": "code",
   "execution_count": 48,
   "metadata": {},
   "outputs": [
    {
     "data": {
      "text/html": [
       "<div>\n",
       "<style scoped>\n",
       "    .dataframe tbody tr th:only-of-type {\n",
       "        vertical-align: middle;\n",
       "    }\n",
       "\n",
       "    .dataframe tbody tr th {\n",
       "        vertical-align: top;\n",
       "    }\n",
       "\n",
       "    .dataframe thead th {\n",
       "        text-align: right;\n",
       "    }\n",
       "</style>\n",
       "<table border=\"1\" class=\"dataframe\">\n",
       "  <thead>\n",
       "    <tr style=\"text-align: right;\">\n",
       "      <th></th>\n",
       "      <th>Unnamed: 0</th>\n",
       "      <th>dataset</th>\n",
       "      <th>date</th>\n",
       "      <th>jointLabeled</th>\n",
       "      <th>img</th>\n",
       "      <th>joints</th>\n",
       "      <th>front_laser</th>\n",
       "      <th>label</th>\n",
       "    </tr>\n",
       "  </thead>\n",
       "  <tbody>\n",
       "    <tr>\n",
       "      <th>6252</th>\n",
       "      <td>6252</td>\n",
       "      <td>heracleia</td>\n",
       "      <td>8_26</td>\n",
       "      <td>True</td>\n",
       "      <td>/data/zak/robot/extracted/heracleia/8_26/img/1...</td>\n",
       "      <td>/data/zak/robot/extracted/heracleia/8_26/joint...</td>\n",
       "      <td>/data/zak/robot/extracted/heracleia/8_26/front...</td>\n",
       "      <td>NaN</td>\n",
       "    </tr>\n",
       "    <tr>\n",
       "      <th>6253</th>\n",
       "      <td>6253</td>\n",
       "      <td>heracleia</td>\n",
       "      <td>8_26</td>\n",
       "      <td>True</td>\n",
       "      <td>/data/zak/robot/extracted/heracleia/8_26/img/1...</td>\n",
       "      <td>/data/zak/robot/extracted/heracleia/8_26/joint...</td>\n",
       "      <td>/data/zak/robot/extracted/heracleia/8_26/front...</td>\n",
       "      <td>NaN</td>\n",
       "    </tr>\n",
       "    <tr>\n",
       "      <th>6254</th>\n",
       "      <td>6254</td>\n",
       "      <td>heracleia</td>\n",
       "      <td>8_26</td>\n",
       "      <td>True</td>\n",
       "      <td>/data/zak/robot/extracted/heracleia/8_26/img/1...</td>\n",
       "      <td>/data/zak/robot/extracted/heracleia/8_26/joint...</td>\n",
       "      <td>/data/zak/robot/extracted/heracleia/8_26/front...</td>\n",
       "      <td>NaN</td>\n",
       "    </tr>\n",
       "    <tr>\n",
       "      <th>6255</th>\n",
       "      <td>6255</td>\n",
       "      <td>heracleia</td>\n",
       "      <td>8_26</td>\n",
       "      <td>True</td>\n",
       "      <td>/data/zak/robot/extracted/heracleia/8_26/img/1...</td>\n",
       "      <td>/data/zak/robot/extracted/heracleia/8_26/joint...</td>\n",
       "      <td>/data/zak/robot/extracted/heracleia/8_26/front...</td>\n",
       "      <td>NaN</td>\n",
       "    </tr>\n",
       "    <tr>\n",
       "      <th>6256</th>\n",
       "      <td>6256</td>\n",
       "      <td>heracleia</td>\n",
       "      <td>8_26</td>\n",
       "      <td>True</td>\n",
       "      <td>/data/zak/robot/extracted/heracleia/8_26/img/1...</td>\n",
       "      <td>/data/zak/robot/extracted/heracleia/8_26/joint...</td>\n",
       "      <td>/data/zak/robot/extracted/heracleia/8_26/front...</td>\n",
       "      <td>NaN</td>\n",
       "    </tr>\n",
       "  </tbody>\n",
       "</table>\n",
       "</div>"
      ],
      "text/plain": [
       "      Unnamed: 0    dataset  date  jointLabeled  \\\n",
       "6252        6252  heracleia  8_26          True   \n",
       "6253        6253  heracleia  8_26          True   \n",
       "6254        6254  heracleia  8_26          True   \n",
       "6255        6255  heracleia  8_26          True   \n",
       "6256        6256  heracleia  8_26          True   \n",
       "\n",
       "                                                    img  \\\n",
       "6252  /data/zak/robot/extracted/heracleia/8_26/img/1...   \n",
       "6253  /data/zak/robot/extracted/heracleia/8_26/img/1...   \n",
       "6254  /data/zak/robot/extracted/heracleia/8_26/img/1...   \n",
       "6255  /data/zak/robot/extracted/heracleia/8_26/img/1...   \n",
       "6256  /data/zak/robot/extracted/heracleia/8_26/img/1...   \n",
       "\n",
       "                                                 joints  \\\n",
       "6252  /data/zak/robot/extracted/heracleia/8_26/joint...   \n",
       "6253  /data/zak/robot/extracted/heracleia/8_26/joint...   \n",
       "6254  /data/zak/robot/extracted/heracleia/8_26/joint...   \n",
       "6255  /data/zak/robot/extracted/heracleia/8_26/joint...   \n",
       "6256  /data/zak/robot/extracted/heracleia/8_26/joint...   \n",
       "\n",
       "                                            front_laser  label  \n",
       "6252  /data/zak/robot/extracted/heracleia/8_26/front...    NaN  \n",
       "6253  /data/zak/robot/extracted/heracleia/8_26/front...    NaN  \n",
       "6254  /data/zak/robot/extracted/heracleia/8_26/front...    NaN  \n",
       "6255  /data/zak/robot/extracted/heracleia/8_26/front...    NaN  \n",
       "6256  /data/zak/robot/extracted/heracleia/8_26/front...    NaN  "
      ]
     },
     "execution_count": 48,
     "metadata": {},
     "output_type": "execute_result"
    }
   ],
   "source": [
    "labeled_data.head()"
   ]
  },
  {
   "cell_type": "code",
   "execution_count": 49,
   "metadata": {},
   "outputs": [
    {
     "data": {
      "text/html": [
       "<div>\n",
       "<style scoped>\n",
       "    .dataframe tbody tr th:only-of-type {\n",
       "        vertical-align: middle;\n",
       "    }\n",
       "\n",
       "    .dataframe tbody tr th {\n",
       "        vertical-align: top;\n",
       "    }\n",
       "\n",
       "    .dataframe thead th {\n",
       "        text-align: right;\n",
       "    }\n",
       "</style>\n",
       "<table border=\"1\" class=\"dataframe\">\n",
       "  <thead>\n",
       "    <tr style=\"text-align: right;\">\n",
       "      <th></th>\n",
       "      <th>dataset</th>\n",
       "      <th>date</th>\n",
       "      <th>jointLabeled</th>\n",
       "      <th>img</th>\n",
       "      <th>joints</th>\n",
       "      <th>front_laser</th>\n",
       "      <th>label</th>\n",
       "    </tr>\n",
       "  </thead>\n",
       "  <tbody>\n",
       "    <tr>\n",
       "      <th>6252</th>\n",
       "      <td>heracleia</td>\n",
       "      <td>8_26</td>\n",
       "      <td>True</td>\n",
       "      <td>/data/zak/robot/extracted/heracleia/8_26/img/1...</td>\n",
       "      <td>/data/zak/robot/extracted/heracleia/8_26/joint...</td>\n",
       "      <td>/data/zak/robot/extracted/heracleia/8_26/front...</td>\n",
       "      <td>NaN</td>\n",
       "    </tr>\n",
       "    <tr>\n",
       "      <th>6253</th>\n",
       "      <td>heracleia</td>\n",
       "      <td>8_26</td>\n",
       "      <td>True</td>\n",
       "      <td>/data/zak/robot/extracted/heracleia/8_26/img/1...</td>\n",
       "      <td>/data/zak/robot/extracted/heracleia/8_26/joint...</td>\n",
       "      <td>/data/zak/robot/extracted/heracleia/8_26/front...</td>\n",
       "      <td>NaN</td>\n",
       "    </tr>\n",
       "    <tr>\n",
       "      <th>6254</th>\n",
       "      <td>heracleia</td>\n",
       "      <td>8_26</td>\n",
       "      <td>True</td>\n",
       "      <td>/data/zak/robot/extracted/heracleia/8_26/img/1...</td>\n",
       "      <td>/data/zak/robot/extracted/heracleia/8_26/joint...</td>\n",
       "      <td>/data/zak/robot/extracted/heracleia/8_26/front...</td>\n",
       "      <td>NaN</td>\n",
       "    </tr>\n",
       "    <tr>\n",
       "      <th>6255</th>\n",
       "      <td>heracleia</td>\n",
       "      <td>8_26</td>\n",
       "      <td>True</td>\n",
       "      <td>/data/zak/robot/extracted/heracleia/8_26/img/1...</td>\n",
       "      <td>/data/zak/robot/extracted/heracleia/8_26/joint...</td>\n",
       "      <td>/data/zak/robot/extracted/heracleia/8_26/front...</td>\n",
       "      <td>NaN</td>\n",
       "    </tr>\n",
       "    <tr>\n",
       "      <th>6256</th>\n",
       "      <td>heracleia</td>\n",
       "      <td>8_26</td>\n",
       "      <td>True</td>\n",
       "      <td>/data/zak/robot/extracted/heracleia/8_26/img/1...</td>\n",
       "      <td>/data/zak/robot/extracted/heracleia/8_26/joint...</td>\n",
       "      <td>/data/zak/robot/extracted/heracleia/8_26/front...</td>\n",
       "      <td>NaN</td>\n",
       "    </tr>\n",
       "  </tbody>\n",
       "</table>\n",
       "</div>"
      ],
      "text/plain": [
       "        dataset  date  jointLabeled  \\\n",
       "6252  heracleia  8_26          True   \n",
       "6253  heracleia  8_26          True   \n",
       "6254  heracleia  8_26          True   \n",
       "6255  heracleia  8_26          True   \n",
       "6256  heracleia  8_26          True   \n",
       "\n",
       "                                                    img  \\\n",
       "6252  /data/zak/robot/extracted/heracleia/8_26/img/1...   \n",
       "6253  /data/zak/robot/extracted/heracleia/8_26/img/1...   \n",
       "6254  /data/zak/robot/extracted/heracleia/8_26/img/1...   \n",
       "6255  /data/zak/robot/extracted/heracleia/8_26/img/1...   \n",
       "6256  /data/zak/robot/extracted/heracleia/8_26/img/1...   \n",
       "\n",
       "                                                 joints  \\\n",
       "6252  /data/zak/robot/extracted/heracleia/8_26/joint...   \n",
       "6253  /data/zak/robot/extracted/heracleia/8_26/joint...   \n",
       "6254  /data/zak/robot/extracted/heracleia/8_26/joint...   \n",
       "6255  /data/zak/robot/extracted/heracleia/8_26/joint...   \n",
       "6256  /data/zak/robot/extracted/heracleia/8_26/joint...   \n",
       "\n",
       "                                            front_laser  label  \n",
       "6252  /data/zak/robot/extracted/heracleia/8_26/front...    NaN  \n",
       "6253  /data/zak/robot/extracted/heracleia/8_26/front...    NaN  \n",
       "6254  /data/zak/robot/extracted/heracleia/8_26/front...    NaN  \n",
       "6255  /data/zak/robot/extracted/heracleia/8_26/front...    NaN  \n",
       "6256  /data/zak/robot/extracted/heracleia/8_26/front...    NaN  "
      ]
     },
     "execution_count": 49,
     "metadata": {},
     "output_type": "execute_result"
    }
   ],
   "source": [
    "# Drop 'Unnamed: 0' Column and 'label' column\n",
    "labeled_data = labeled_data.loc[:, ~labeled_data.columns.str.contains('^Unnamed')]\n",
    "labeled_data.head()"
   ]
  },
  {
   "cell_type": "code",
   "execution_count": 50,
   "metadata": {},
   "outputs": [],
   "source": [
    "def get_direction(joint_path):\n",
    "    with open(joint_path, 'rb') as f:\n",
    "        values = pickle.load(f)\n",
    "    velocities = values['velocity']\n",
    "    BL, BR, FL, FR = velocities\n",
    "    # Check stop condition\n",
    "    if all([-0.5 < v < 0.5 for v in velocities]):\n",
    "        return 'STOP'\n",
    "    elif all([v > 2 for v in velocities]):\n",
    "        return 'FORWARD'\n",
    "    elif all([FL > FR, BL > BR]):\n",
    "        return 'RIGHT'\n",
    "    elif all([FL < FR, BL < BR]):\n",
    "        return 'LEFT'\n",
    "    else:\n",
    "        return 'UNKNOWN'"
   ]
  },
  {
   "cell_type": "code",
   "execution_count": 51,
   "metadata": {},
   "outputs": [],
   "source": [
    "labeled_data['label'] = labeled_data.joints.apply(lambda joint_path: get_direction(joint_path))"
   ]
  },
  {
   "cell_type": "code",
   "execution_count": 52,
   "metadata": {},
   "outputs": [
    {
     "data": {
      "text/html": [
       "<div>\n",
       "<style scoped>\n",
       "    .dataframe tbody tr th:only-of-type {\n",
       "        vertical-align: middle;\n",
       "    }\n",
       "\n",
       "    .dataframe tbody tr th {\n",
       "        vertical-align: top;\n",
       "    }\n",
       "\n",
       "    .dataframe thead th {\n",
       "        text-align: right;\n",
       "    }\n",
       "</style>\n",
       "<table border=\"1\" class=\"dataframe\">\n",
       "  <thead>\n",
       "    <tr style=\"text-align: right;\">\n",
       "      <th></th>\n",
       "      <th>dataset</th>\n",
       "      <th>date</th>\n",
       "      <th>jointLabeled</th>\n",
       "      <th>img</th>\n",
       "      <th>joints</th>\n",
       "      <th>front_laser</th>\n",
       "      <th>label</th>\n",
       "    </tr>\n",
       "  </thead>\n",
       "  <tbody>\n",
       "    <tr>\n",
       "      <th>6252</th>\n",
       "      <td>heracleia</td>\n",
       "      <td>8_26</td>\n",
       "      <td>True</td>\n",
       "      <td>/data/zak/robot/extracted/heracleia/8_26/img/1...</td>\n",
       "      <td>/data/zak/robot/extracted/heracleia/8_26/joint...</td>\n",
       "      <td>/data/zak/robot/extracted/heracleia/8_26/front...</td>\n",
       "      <td>STOP</td>\n",
       "    </tr>\n",
       "    <tr>\n",
       "      <th>6253</th>\n",
       "      <td>heracleia</td>\n",
       "      <td>8_26</td>\n",
       "      <td>True</td>\n",
       "      <td>/data/zak/robot/extracted/heracleia/8_26/img/1...</td>\n",
       "      <td>/data/zak/robot/extracted/heracleia/8_26/joint...</td>\n",
       "      <td>/data/zak/robot/extracted/heracleia/8_26/front...</td>\n",
       "      <td>STOP</td>\n",
       "    </tr>\n",
       "    <tr>\n",
       "      <th>6254</th>\n",
       "      <td>heracleia</td>\n",
       "      <td>8_26</td>\n",
       "      <td>True</td>\n",
       "      <td>/data/zak/robot/extracted/heracleia/8_26/img/1...</td>\n",
       "      <td>/data/zak/robot/extracted/heracleia/8_26/joint...</td>\n",
       "      <td>/data/zak/robot/extracted/heracleia/8_26/front...</td>\n",
       "      <td>STOP</td>\n",
       "    </tr>\n",
       "    <tr>\n",
       "      <th>6255</th>\n",
       "      <td>heracleia</td>\n",
       "      <td>8_26</td>\n",
       "      <td>True</td>\n",
       "      <td>/data/zak/robot/extracted/heracleia/8_26/img/1...</td>\n",
       "      <td>/data/zak/robot/extracted/heracleia/8_26/joint...</td>\n",
       "      <td>/data/zak/robot/extracted/heracleia/8_26/front...</td>\n",
       "      <td>STOP</td>\n",
       "    </tr>\n",
       "    <tr>\n",
       "      <th>6256</th>\n",
       "      <td>heracleia</td>\n",
       "      <td>8_26</td>\n",
       "      <td>True</td>\n",
       "      <td>/data/zak/robot/extracted/heracleia/8_26/img/1...</td>\n",
       "      <td>/data/zak/robot/extracted/heracleia/8_26/joint...</td>\n",
       "      <td>/data/zak/robot/extracted/heracleia/8_26/front...</td>\n",
       "      <td>STOP</td>\n",
       "    </tr>\n",
       "  </tbody>\n",
       "</table>\n",
       "</div>"
      ],
      "text/plain": [
       "        dataset  date  jointLabeled  \\\n",
       "6252  heracleia  8_26          True   \n",
       "6253  heracleia  8_26          True   \n",
       "6254  heracleia  8_26          True   \n",
       "6255  heracleia  8_26          True   \n",
       "6256  heracleia  8_26          True   \n",
       "\n",
       "                                                    img  \\\n",
       "6252  /data/zak/robot/extracted/heracleia/8_26/img/1...   \n",
       "6253  /data/zak/robot/extracted/heracleia/8_26/img/1...   \n",
       "6254  /data/zak/robot/extracted/heracleia/8_26/img/1...   \n",
       "6255  /data/zak/robot/extracted/heracleia/8_26/img/1...   \n",
       "6256  /data/zak/robot/extracted/heracleia/8_26/img/1...   \n",
       "\n",
       "                                                 joints  \\\n",
       "6252  /data/zak/robot/extracted/heracleia/8_26/joint...   \n",
       "6253  /data/zak/robot/extracted/heracleia/8_26/joint...   \n",
       "6254  /data/zak/robot/extracted/heracleia/8_26/joint...   \n",
       "6255  /data/zak/robot/extracted/heracleia/8_26/joint...   \n",
       "6256  /data/zak/robot/extracted/heracleia/8_26/joint...   \n",
       "\n",
       "                                            front_laser label  \n",
       "6252  /data/zak/robot/extracted/heracleia/8_26/front...  STOP  \n",
       "6253  /data/zak/robot/extracted/heracleia/8_26/front...  STOP  \n",
       "6254  /data/zak/robot/extracted/heracleia/8_26/front...  STOP  \n",
       "6255  /data/zak/robot/extracted/heracleia/8_26/front...  STOP  \n",
       "6256  /data/zak/robot/extracted/heracleia/8_26/front...  STOP  "
      ]
     },
     "execution_count": 52,
     "metadata": {},
     "output_type": "execute_result"
    }
   ],
   "source": [
    "labeled_data.head()"
   ]
  },
  {
   "cell_type": "code",
   "execution_count": 53,
   "metadata": {},
   "outputs": [
    {
     "data": {
      "text/plain": [
       "FORWARD    3821\n",
       "RIGHT      1553\n",
       "LEFT       1451\n",
       "STOP       1269\n",
       "UNKNOWN     756\n",
       "Name: label, dtype: int64"
      ]
     },
     "execution_count": 53,
     "metadata": {},
     "output_type": "execute_result"
    }
   ],
   "source": [
    "labeled_data.label.value_counts()"
   ]
  },
  {
   "cell_type": "code",
   "execution_count": null,
   "metadata": {},
   "outputs": [],
   "source": []
  }
 ],
 "metadata": {
  "kernelspec": {
   "display_name": "asheesh",
   "language": "python",
   "name": "asheesh"
  },
  "language_info": {
   "codemirror_mode": {
    "name": "ipython",
    "version": 3
   },
   "file_extension": ".py",
   "mimetype": "text/x-python",
   "name": "python",
   "nbconvert_exporter": "python",
   "pygments_lexer": "ipython3",
   "version": "3.7.13"
  }
 },
 "nbformat": 4,
 "nbformat_minor": 4
}
