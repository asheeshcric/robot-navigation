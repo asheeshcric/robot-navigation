{
 "cells": [
  {
   "cell_type": "code",
   "execution_count": 1,
   "metadata": {},
   "outputs": [],
   "source": [
    "import csv\n",
    "import os\n",
    "import pickle"
   ]
  },
  {
   "cell_type": "code",
   "execution_count": 2,
   "metadata": {},
   "outputs": [],
   "source": [
    "data_path = '/data/zak/rosbag/labeled'"
   ]
  },
  {
   "cell_type": "code",
   "execution_count": 3,
   "metadata": {},
   "outputs": [],
   "source": [
    "def get_labels(joint_filenames):\n",
    "    labels = []\n",
    "    for joint_path in joint_filenames:\n",
    "        with open(joint_path, 'rb') as joint_file:\n",
    "            vel = pickle.load(joint_file)['velocity']\n",
    "            front_avg_vel = (vel[2] + vel[3]) / 2\n",
    "            if front_avg_vel > 1:\n",
    "                label = 'no_obstacle'\n",
    "            elif -0.1 < front_avg_vel < 0.1:\n",
    "                label = 'obstacle'\n",
    "            else:\n",
    "                label = 'unknown'\n",
    "        labels.append(label)\n",
    "    return labels"
   ]
  },
  {
   "cell_type": "code",
   "execution_count": 9,
   "metadata": {},
   "outputs": [],
   "source": [
    "def create_csv(img_filenames, joint_filenames, dataset_path):\n",
    "    labels = get_labels(joint_filenames)\n",
    "    path_labels = list(zip(img_filenames, labels))\n",
    "    print(f'Writing labels.csv to {dataset_path}')\n",
    "    with open(os.path.join(dataset_path, 'labels.csv'), 'w') as csv_file:\n",
    "        writer = csv.writer(csv_file)\n",
    "        writer.writerow(['img_path', 'label'])\n",
    "        writer.writerows(path_labels)"
   ]
  },
  {
   "cell_type": "code",
   "execution_count": 10,
   "metadata": {},
   "outputs": [
    {
     "name": "stdout",
     "output_type": "stream",
     "text": [
      "Writing labels.csv to /data/zak/rosbag/labeled/uc\n",
      "Writing labels.csv to /data/zak/rosbag/labeled/heracleia\n",
      "Writing labels.csv to /data/zak/rosbag/labeled/mocap\n"
     ]
    }
   ],
   "source": [
    "for dataset in os.listdir(data_path):\n",
    "    dataset_path = os.path.join(data_path, dataset)    \n",
    "\n",
    "    # Sort all img and joints contents in ascending order and put them on a csv file with the obtained label\n",
    "    img_filenames = sorted(os.listdir(os.path.join(dataset_path, 'img')))\n",
    "    img_filenames = [os.path.join(dataset_path, 'img', img) for img in img_filenames]\n",
    "    joint_filenames = sorted(os.listdir(os.path.join(dataset_path, 'joints')))\n",
    "    joint_filenames = [os.path.join(dataset_path, 'joints', joint) for joint in joint_filenames]\n",
    "    create_csv(img_filenames, joint_filenames, dataset_path)\n",
    "    "
   ]
  },
  {
   "cell_type": "code",
   "execution_count": null,
   "metadata": {},
   "outputs": [],
   "source": []
  }
 ],
 "metadata": {
  "kernelspec": {
   "display_name": "asheesh",
   "language": "python",
   "name": "asheesh"
  },
  "language_info": {
   "codemirror_mode": {
    "name": "ipython",
    "version": 3
   },
   "file_extension": ".py",
   "mimetype": "text/x-python",
   "name": "python",
   "nbconvert_exporter": "python",
   "pygments_lexer": "ipython3",
   "version": "3.6.8"
  }
 },
 "nbformat": 4,
 "nbformat_minor": 4
}
