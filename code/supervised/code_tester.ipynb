{
 "cells": [
  {
   "cell_type": "markdown",
   "metadata": {},
   "source": [
    "# Using a frozen pretrained model on top of my model for training"
   ]
  },
  {
   "cell_type": "code",
   "execution_count": null,
   "metadata": {},
   "outputs": [],
   "source": [
    "from torchvision import models"
   ]
  },
  {
   "cell_type": "code",
   "execution_count": null,
   "metadata": {},
   "outputs": [],
   "source": [
    "eff = models.efficientnet_b0(weights=models.EfficientNet_B0_Weights.DEFAULT)"
   ]
  },
  {
   "cell_type": "code",
   "execution_count": null,
   "metadata": {},
   "outputs": [],
   "source": [
    "models.EfficientNet_B0_Weights.DEFAULT.transforms()"
   ]
  },
  {
   "cell_type": "code",
   "execution_count": null,
   "metadata": {},
   "outputs": [],
   "source": [
    "squeeze = models.squeezenet1_0(weights=models.SqueezeNet1_0_Weights.DEFAULT)\n",
    "squeeze"
   ]
  },
  {
   "cell_type": "code",
   "execution_count": null,
   "metadata": {},
   "outputs": [],
   "source": [
    "models.SqueezeNet1_0_Weights.DEFAULT.transforms()"
   ]
  },
  {
   "cell_type": "code",
   "execution_count": null,
   "metadata": {},
   "outputs": [],
   "source": [
    "vit = models.vit_b_16(weights=models.ViT_B_16_Weights.DEFAULT)\n",
    "vit"
   ]
  },
  {
   "cell_type": "code",
   "execution_count": null,
   "metadata": {},
   "outputs": [],
   "source": [
    "models.ViT_B_16_Weights.DEFAULT.transforms()"
   ]
  },
  {
   "cell_type": "code",
   "execution_count": null,
   "metadata": {},
   "outputs": [],
   "source": []
  },
  {
   "cell_type": "code",
   "execution_count": 2,
   "metadata": {},
   "outputs": [],
   "source": [
    "import pandas as pd"
   ]
  },
  {
   "cell_type": "code",
   "execution_count": 37,
   "metadata": {},
   "outputs": [],
   "source": [
    "def save_to_csv(file_name):\n",
    "    df = pd.read_csv(file_name)\n",
    "    df.loc[df['label'] == 0, 'label'] = 'obstacle'\n",
    "    df.loc[df['label'] == 1, 'label'] = 'no_obstacle'\n",
    "    df.loc[df['label'] == 2, 'label'] = 'unknown'\n",
    "    df['image_fn'] = '/data/zak/rosbag/labeled/heracleia/img/' + df['image_fn'].astype(str) + '.jpg'\n",
    "    new_df = pd.DataFrame()\n",
    "    new_df['img_path'] = df['image_fn']\n",
    "    new_df['label'] = df['label']\n",
    "    new_df.to_csv(f'labels_{file_name}', index=False)"
   ]
  },
  {
   "cell_type": "code",
   "execution_count": 44,
   "metadata": {},
   "outputs": [
    {
     "name": "stdout",
     "output_type": "stream",
     "text": [
      "   Unnamed: 0                                           img_path     label\n",
      "0           0  /data/zak/rosbag/labeled/heracleia/img/1661552...  obstacle\n",
      "1           1  /data/zak/rosbag/labeled/heracleia/img/1661552...  obstacle\n",
      "2           2  /data/zak/rosbag/labeled/heracleia/img/1661552...  obstacle\n",
      "3           3  /data/zak/rosbag/labeled/heracleia/img/1661552...  obstacle\n",
      "4           4  /data/zak/rosbag/labeled/heracleia/img/1661552...  obstacle\n"
     ]
    }
   ],
   "source": [
    "cr = pd.read_csv('/data/zak/rosbag/labeled/mocap/labels_christos.csv')\n",
    "print(cr.head())\n",
    "cr = cr.loc[:, ~cr.columns.str.match('Unnamed')]\n",
    "cr.to_csv('/data/zak/rosbag/labeled/mocap/labels_christos.csv', index=False)"
   ]
  },
  {
   "cell_type": "code",
   "execution_count": 41,
   "metadata": {},
   "outputs": [],
   "source": []
  },
  {
   "cell_type": "markdown",
   "metadata": {},
   "source": [
    "# Balance dataset by taking equal number of image samples from positive and negative classes"
   ]
  },
  {
   "cell_type": "code",
   "execution_count": 4,
   "metadata": {},
   "outputs": [],
   "source": [
    "data_path = '/data/zak/rosbag/labeled'"
   ]
  },
  {
   "cell_type": "code",
   "execution_count": 6,
   "metadata": {},
   "outputs": [],
   "source": [
    "import os\n",
    "import pandas as pd"
   ]
  },
  {
   "cell_type": "code",
   "execution_count": 35,
   "metadata": {},
   "outputs": [],
   "source": [
    "def balance_data(data_path, dataset):\n",
    "    df = pd.read_csv(os.path.join(data_path, dataset, 'labels.csv'))\n",
    "    counts = df['label'].value_counts()\n",
    "    no_obstacle = df.loc[df['label'] == 'no_obstacle'].sample(n=counts['obstacle'])\n",
    "    obstacle = df.loc[df['label'] == 'obstacle']\n",
    "    balanced = no_obstacle.append(obstacle, ignore_index=True)\n",
    "    # Randomly shuffle rows in the df\n",
    "    balanced = balanced.sample(frac=1).reset_index(drop=True)\n",
    "    balanced.to_csv(os.path.join(data_path, dataset, 'labels_balanced.csv'), index=False)\n",
    "    print(f'CSV file created for {dataset}')"
   ]
  },
  {
   "cell_type": "code",
   "execution_count": 36,
   "metadata": {},
   "outputs": [
    {
     "name": "stdout",
     "output_type": "stream",
     "text": [
      "CSV file created for heracleia\n",
      "CSV file created for mocap\n",
      "CSV file created for uc\n"
     ]
    }
   ],
   "source": [
    "for dataset in ['heracleia', 'mocap', 'uc']:\n",
    "    balance_data(data_path, dataset)"
   ]
  },
  {
   "cell_type": "code",
   "execution_count": 34,
   "metadata": {},
   "outputs": [
    {
     "data": {
      "text/html": [
       "<div>\n",
       "<style scoped>\n",
       "    .dataframe tbody tr th:only-of-type {\n",
       "        vertical-align: middle;\n",
       "    }\n",
       "\n",
       "    .dataframe tbody tr th {\n",
       "        vertical-align: top;\n",
       "    }\n",
       "\n",
       "    .dataframe thead th {\n",
       "        text-align: right;\n",
       "    }\n",
       "</style>\n",
       "<table border=\"1\" class=\"dataframe\">\n",
       "  <thead>\n",
       "    <tr style=\"text-align: right;\">\n",
       "      <th></th>\n",
       "      <th>img_path</th>\n",
       "      <th>label</th>\n",
       "    </tr>\n",
       "  </thead>\n",
       "  <tbody>\n",
       "    <tr>\n",
       "      <th>0</th>\n",
       "      <td>/data/zak/rosbag/labeled/heracleia/img/1661551...</td>\n",
       "      <td>obstacle</td>\n",
       "    </tr>\n",
       "    <tr>\n",
       "      <th>1</th>\n",
       "      <td>/data/zak/rosbag/labeled/heracleia/img/1661551...</td>\n",
       "      <td>obstacle</td>\n",
       "    </tr>\n",
       "    <tr>\n",
       "      <th>2</th>\n",
       "      <td>/data/zak/rosbag/labeled/heracleia/img/1661551...</td>\n",
       "      <td>obstacle</td>\n",
       "    </tr>\n",
       "    <tr>\n",
       "      <th>3</th>\n",
       "      <td>/data/zak/rosbag/labeled/heracleia/img/1661551...</td>\n",
       "      <td>obstacle</td>\n",
       "    </tr>\n",
       "    <tr>\n",
       "      <th>4</th>\n",
       "      <td>/data/zak/rosbag/labeled/heracleia/img/1661551...</td>\n",
       "      <td>obstacle</td>\n",
       "    </tr>\n",
       "  </tbody>\n",
       "</table>\n",
       "</div>"
      ],
      "text/plain": [
       "                                            img_path     label\n",
       "0  /data/zak/rosbag/labeled/heracleia/img/1661551...  obstacle\n",
       "1  /data/zak/rosbag/labeled/heracleia/img/1661551...  obstacle\n",
       "2  /data/zak/rosbag/labeled/heracleia/img/1661551...  obstacle\n",
       "3  /data/zak/rosbag/labeled/heracleia/img/1661551...  obstacle\n",
       "4  /data/zak/rosbag/labeled/heracleia/img/1661551...  obstacle"
      ]
     },
     "execution_count": 34,
     "metadata": {},
     "output_type": "execute_result"
    }
   ],
   "source": [
    "df = pd.read_csv(os.path.join(data_path, 'heracleia', 'labels.csv'))\n",
    "df.head()"
   ]
  },
  {
   "cell_type": "code",
   "execution_count": null,
   "metadata": {},
   "outputs": [],
   "source": []
  }
 ],
 "metadata": {
  "kernelspec": {
   "display_name": "asheesh",
   "language": "python",
   "name": "asheesh"
  },
  "language_info": {
   "codemirror_mode": {
    "name": "ipython",
    "version": 3
   },
   "file_extension": ".py",
   "mimetype": "text/x-python",
   "name": "python",
   "nbconvert_exporter": "python",
   "pygments_lexer": "ipython3",
   "version": "3.7.13"
  }
 },
 "nbformat": 4,
 "nbformat_minor": 4
}
